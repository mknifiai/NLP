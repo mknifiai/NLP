{
 "cells": [
  {
   "cell_type": "markdown",
   "id": "60cc4b56-c364-4cad-940d-da460999a6bb",
   "metadata": {},
   "source": [
    "#### Assignment 2"
   ]
  },
  {
   "cell_type": "markdown",
   "id": "0e48e05f-5ac4-4002-afa9-1d62b161cca2",
   "metadata": {},
   "source": [
    "In this assignment, you will implement a neural network sentiment analysis classifier.\n",
    "\n",
    "1- Implement the rquired data preprocessing: (1%)\n",
    "     \n",
    "     - Split the data into training and test sets.\n",
    "\n",
    "2- Use CBOW for embedding (1%)\n",
    "\n",
    "3- Train and test a Neural Network model on the data. (15%)\n",
    "\n",
    "    - Discuss the results of different depth and width of the model.\n",
    "    - Compare and discuss the result of the best model with the ones obtained in the the first assignment.\n",
    "\n",
    "4- Organize your code in Multiple cells (3%)\n"
   ]
  },
  {
   "cell_type": "markdown",
   "id": "44b89889-3871-466f-9b36-a9b3ed595429",
   "metadata": {},
   "source": [
    "#### Check-In:\n",
    "\n",
    "<font color='red'>- Rename this file as follows: a2-YOUR_UQU_ID.ipynb\n",
    "</font><br>\n",
    "<font color='red'>- Upload your notebook file to Blackboard\n",
    "</font>"
   ]
  },
  {
   "cell_type": "code",
   "execution_count": 2,
   "id": "081d0251-1a90-4348-9787-734d869f0261",
   "metadata": {},
   "outputs": [],
   "source": [
    "#%pip install datasets\n",
    "#%pip install numpy\n",
    "#%pip install torch"
   ]
  },
  {
   "cell_type": "code",
   "execution_count": null,
   "id": "204c794d-b9fd-4bea-a77d-ce7d94e1383a",
   "metadata": {},
   "outputs": [],
   "source": [
    "# load and split dataset\n",
    "\n",
    "from datasets import load_dataset\n",
    "import numpy as np\n",
    "\n",
    "imdb_moview = load_dataset(\"ajaykarthick/imdb-movie-reviews\")\n",
    "\n",
    "train_ds = imdb_moview[\"train\"]\n",
    "test_ds = imdb_moview[\"test\"]\n",
    "\n",
    "\n",
    "Xtemp = np.asarray(train_ds['review'][:])\n",
    "Ytemp = np.asarray(train_ds['label'][:])\n",
    "\n",
    "\n",
    "Xtest = np.asarray(test_ds['review'][:])\n",
    "Ytest = np.asarray(test_ds['label'][:])"
   ]
  }
 ],
 "metadata": {
  "kernelspec": {
   "display_name": "Python 3 (ipykernel)",
   "language": "python",
   "name": "python3"
  },
  "language_info": {
   "codemirror_mode": {
    "name": "ipython",
    "version": 3
   },
   "file_extension": ".py",
   "mimetype": "text/x-python",
   "name": "python",
   "nbconvert_exporter": "python",
   "pygments_lexer": "ipython3",
   "version": "3.12.1"
  }
 },
 "nbformat": 4,
 "nbformat_minor": 5
}
