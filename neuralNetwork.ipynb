{
 "cells": [
  {
   "cell_type": "markdown",
   "id": "ab4a8a6e-ed5d-4575-820e-55ffb4014e04",
   "metadata": {},
   "source": [
    "### From logistic regression to a neural network unit"
   ]
  },
  {
   "cell_type": "code",
   "execution_count": 1,
   "id": "c3f211bc-544f-4514-9f36-833f9d1646b3",
   "metadata": {},
   "outputs": [
    {
     "data": {
      "text/html": [
       "<img src=\"nn.png\" width=\"500\" height=\"350\"/>"
      ],
      "text/plain": [
       "<IPython.core.display.Image object>"
      ]
     },
     "execution_count": 1,
     "metadata": {},
     "output_type": "execute_result"
    }
   ],
   "source": [
    "from IPython.display import Image\n",
    "Image(url=\"nn.png\", width=500, height=350)"
   ]
  },
  {
   "cell_type": "markdown",
   "id": "1f47dcab-b982-4637-a07a-4add0830f5d2",
   "metadata": {},
   "source": [
    "### Limitation of perceptron"
   ]
  },
  {
   "cell_type": "markdown",
   "id": "9459d79d-93e7-4385-b587-6751344ab6d7",
   "metadata": {},
   "source": [
    "- can only find linear separations between positive and\n",
    "negative examples"
   ]
  },
  {
   "cell_type": "code",
   "execution_count": 3,
   "id": "a4e3824a-8714-45cb-8c30-111cb00ef201",
   "metadata": {},
   "outputs": [
    {
     "data": {
      "text/html": [
       "<img src=\"xo.png\" width=\"300\" height=\"300\"/>"
      ],
      "text/plain": [
       "<IPython.core.display.Image object>"
      ]
     },
     "execution_count": 3,
     "metadata": {},
     "output_type": "execute_result"
    }
   ],
   "source": [
    "Image(url=\"xo.png\", width=300, height=300)"
   ]
  },
  {
   "cell_type": "markdown",
   "id": "000bc17f-631f-4ede-84a5-978c12541ce0",
   "metadata": {},
   "source": [
    "[A Neural Network Playground](https://playground.tensorflow.org/#activation=tanh&batchSize=10&dataset=circle&regDataset=reg-plane&learningRate=0.03&regularizationRate=0&noise=0&networkShape=4,2&seed=0.71673&showTestData=false&discretize=false&percTrainData=50&x=true&y=true&xTimesY=false&xSquared=false&ySquared=false&cosX=false&sinX=false&cosY=false&sinY=false&collectStats=false&problem=classification&initZero=false&hideText=false)"
   ]
  },
  {
   "cell_type": "markdown",
   "id": "97728afa-23e0-4fe6-a905-ce3bad8a9643",
   "metadata": {},
   "source": [
    "### Feedforward Neural Networks"
   ]
  },
  {
   "cell_type": "markdown",
   "id": "c9225c33-a39f-4379-aa40-1b46d9602b8a",
   "metadata": {},
   "source": [
    "Components:\n",
    "- an input layer\n",
    "- an output layer\n",
    "- one or more hidden layers\n",
    "\n",
    "In a fully connected network:\n",
    "each hidden unit takes as input\n",
    "all the units in the previous layer\n",
    "No loops!"
   ]
  },
  {
   "cell_type": "code",
   "execution_count": 5,
   "id": "fb16dc26-5287-4655-8e90-4640e78bf0d8",
   "metadata": {},
   "outputs": [
    {
     "data": {
      "text/html": [
       "<img src=\"nnl.png\" width=\"300\" height=\"300\"/>"
      ],
      "text/plain": [
       "<IPython.core.display.Image object>"
      ]
     },
     "execution_count": 5,
     "metadata": {},
     "output_type": "execute_result"
    }
   ],
   "source": [
    "Image(url=\"nnl.png\", width=300, height=300)"
   ]
  },
  {
   "cell_type": "markdown",
   "id": "7332e56e-da55-4849-826e-9ee4626a9809",
   "metadata": {},
   "source": [
    "### Designing Neural Networks: Activation functions"
   ]
  },
  {
   "cell_type": "markdown",
   "id": "f0430954-8cc4-4026-94ab-305127e433f1",
   "metadata": {},
   "source": [
    "- Hidden layer can be viewed as set of hidden features\n",
    "- The output of the hidden layer indicates the extent to which each hidden feature is “activated” by a\n",
    "given input\n",
    "- The activation function is a non-linear\n",
    "function that determines range of\n",
    "hidden feature values"
   ]
  },
  {
   "cell_type": "code",
   "execution_count": 8,
   "id": "8b5c90cf-6367-4c3c-9c07-110a1d00f455",
   "metadata": {},
   "outputs": [
    {
     "data": {
      "text/html": [
       "<img src=\"active.png\" width=\"500\" height=\"400\"/>"
      ],
      "text/plain": [
       "<IPython.core.display.Image object>"
      ]
     },
     "execution_count": 8,
     "metadata": {},
     "output_type": "execute_result"
    }
   ],
   "source": [
    "Image(url=\"active.png\", width=500, height=400)"
   ]
  },
  {
   "cell_type": "markdown",
   "id": "286b3d24-6756-47d2-9230-e44f930ceeab",
   "metadata": {},
   "source": [
    "2 key decisions:\n",
    "- Width (number of nodes per layer)\n",
    "- Depth (number of hidden layers)\n",
    "- More parameters means that the network can learn more complex functions of the input"
   ]
  },
  {
   "cell_type": "markdown",
   "id": "b8e83228-8ed9-4b03-aa56-6491cc608480",
   "metadata": {},
   "source": [
    "#### Forward Propagation: For a given network, and some input values, compute output"
   ]
  },
  {
   "cell_type": "code",
   "execution_count": 10,
   "id": "21ba8a13-7d12-4ad7-8735-c297fa583710",
   "metadata": {},
   "outputs": [
    {
     "data": {
      "text/html": [
       "<img src=\"fw.png\" width=\"500\" height=\"400\"/>"
      ],
      "text/plain": [
       "<IPython.core.display.Image object>"
      ]
     },
     "execution_count": 10,
     "metadata": {},
     "output_type": "execute_result"
    }
   ],
   "source": [
    "Image(url=\"fw.png\", width=500, height=400)"
   ]
  },
  {
   "cell_type": "markdown",
   "id": "3c709d8b-addd-4425-8a19-0fe13c7cc801",
   "metadata": {},
   "source": [
    "### How do we train a neural network?"
   ]
  },
  {
   "cell_type": "markdown",
   "id": "0c14d870-ca71-48a5-bead-1dce10188df1",
   "metadata": {},
   "source": [
    "For training, we need\n",
    "- Data: (a large number of) examples paired with their correct class (x,y)\n",
    "- Loss/error function: quantify how bad our prediction y is compared to\n",
    "the truth t\n",
    "    - E.g. squared error (aka L2 loss) $ $   $  error = \\dfrac{1}{2}(t-y)^{2}$\n",
    "- An algorithm to minimize the loss: stochastic gradient descent"
   ]
  },
  {
   "cell_type": "code",
   "execution_count": null,
   "id": "1b12f0da-88f1-40d1-b135-47c04cbb06a8",
   "metadata": {},
   "outputs": [],
   "source": []
  }
 ],
 "metadata": {
  "kernelspec": {
   "display_name": "Python 3 (ipykernel)",
   "language": "python",
   "name": "python3"
  },
  "language_info": {
   "codemirror_mode": {
    "name": "ipython",
    "version": 3
   },
   "file_extension": ".py",
   "mimetype": "text/x-python",
   "name": "python",
   "nbconvert_exporter": "python",
   "pygments_lexer": "ipython3",
   "version": "3.12.1"
  }
 },
 "nbformat": 4,
 "nbformat_minor": 5
}
